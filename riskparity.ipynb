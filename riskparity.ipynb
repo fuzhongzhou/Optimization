{
 "cells": [
  {
   "cell_type": "code",
   "execution_count": 24,
   "metadata": {},
   "outputs": [],
   "source": [
    "import pandas as pd\n",
    "import numpy as np\n",
    "import scipy as sp\n",
    "from scipy.optimize import minimize"
   ]
  },
  {
   "cell_type": "code",
   "execution_count": 69,
   "metadata": {},
   "outputs": [],
   "source": [
    "def risk_parity_weight(cov_mat, risk_prop, equity_prop):    \n",
    "    sigma = np.matrix(cov_mat.values)\n",
    "\n",
    "    def objfun(x):\n",
    "        tmp = (sigma * np.matrix(x).T).A1\n",
    "        risk = x * tmp\n",
    "        var = sum(risk)\n",
    "        delta_risk = [(risk[i] - risk_prop[i]*var)**2 for i in range(len(risk))]\n",
    "        return sum(delta_risk)\n",
    "\n",
    "    x0 = np.ones(sigma.shape[0]) / sigma.shape[0]  \n",
    "    bnds = tuple((0,None) for x in x0)\n",
    "    cons = ({'type':'eq', 'fun': lambda x: sum(x) - 1},\n",
    "            {'type': 'ineq', 'fun': lambda x: equity_prop - x[0]})\n",
    "    options={'disp':False, 'maxiter':1000, 'ftol':1e-20}\n",
    "\n",
    "    res = minimize(objfun, x0, bounds=bnds, constraints=cons, method='SLSQP', options=options)\n",
    "\n",
    "    res['success'] == False\n",
    "    wts = pd.Series(index=cov_mat.index, data=res['x'])\n",
    "    return wts / wts.sum() * 1.0"
   ]
  },
  {
   "cell_type": "code",
   "execution_count": 95,
   "metadata": {},
   "outputs": [
    {
     "data": {
      "text/plain": [
       "Stars3     0.646998\n",
       "Stars4     0.111796\n",
       "Starts5    0.241206\n",
       "dtype: float64"
      ]
     },
     "execution_count": 95,
     "metadata": {},
     "output_type": "execute_result"
    }
   ],
   "source": [
    "test=pd.read_csv(\"test.csv\")\n",
    "test.set_index(\"Date\")\n",
    "cov = test.cov()\n",
    "target = [0.7, 0.1, 0.2]\n",
    "equity = 0.8\n",
    "wts = risk_parity_weight(cov, target, equity)\n",
    "wts"
   ]
  },
  {
   "cell_type": "code",
   "execution_count": 96,
   "metadata": {},
   "outputs": [
    {
     "data": {
      "text/plain": [
       "Stars3     0.7\n",
       "Stars4     0.1\n",
       "Starts5    0.2\n",
       "dtype: float64"
      ]
     },
     "execution_count": 96,
     "metadata": {},
     "output_type": "execute_result"
    }
   ],
   "source": [
    "var = (wts.T).dot(cov).dot(wts)\n",
    "wts*(cov.dot(wts))/var"
   ]
  }
 ],
 "metadata": {
  "kernelspec": {
   "display_name": "Python 3",
   "language": "python",
   "name": "python3"
  },
  "language_info": {
   "codemirror_mode": {
    "name": "ipython",
    "version": 3
   },
   "file_extension": ".py",
   "mimetype": "text/x-python",
   "name": "python",
   "nbconvert_exporter": "python",
   "pygments_lexer": "ipython3",
   "version": "3.7.3"
  }
 },
 "nbformat": 4,
 "nbformat_minor": 2
}
