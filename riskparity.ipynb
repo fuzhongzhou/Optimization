{
 "cells": [
  {
   "cell_type": "code",
   "execution_count": 1,
   "metadata": {},
   "outputs": [],
   "source": [
    "import pandas as pd\n",
    "import numpy as np\n",
    "import scipy as sp\n",
    "from scipy.optimize import minimize"
   ]
  },
  {
   "cell_type": "code",
   "execution_count": 2,
   "metadata": {},
   "outputs": [],
   "source": [
    "def risk_parity_weight(cov_mat, risk_prop, equity_prop):    \n",
    "    sigma = np.matrix(cov_mat.values)\n",
    "\n",
    "    def objfun(x):\n",
    "        tmp = (sigma * np.matrix(x).T).A1\n",
    "        risk = x * tmp\n",
    "        var = sum(risk)\n",
    "        delta_risk = ((sum(risk[0:3]) - risk_prop[0]*var)**2 + \n",
    "                      (sum(risk[3:5]) - risk_prop[1]*var)**2 +\n",
    "                      (sum(risk[5:9]) - risk_prop[2]*var)**2)\n",
    "        return delta_risk\n",
    "\n",
    "    x0 = np.ones(sigma.shape[0]) / sigma.shape[0]  \n",
    "    bnds = tuple((0,None) for x in x0)\n",
    "    cons = ({'type':'eq', 'fun': lambda x: sum(x) - 1},\n",
    "            {'type': 'ineq', 'fun': lambda x: equity_prop - sum(x[0:3])/sum(x)})\n",
    "    options={'disp':False, 'maxiter':1000, 'ftol':1e-20}\n",
    "\n",
    "    res = minimize(objfun, x0, bounds=bnds, constraints=cons, method='SLSQP', options=options)\n",
    "    wts = pd.Series(index=cov_mat.index, data=res['x'])\n",
    "    return wts / wts.sum() * 1.0"
   ]
  },
  {
   "cell_type": "code",
   "execution_count": 3,
   "metadata": {},
   "outputs": [],
   "source": [
    "def standardize(tmp):\n",
    "    if isinstance(tmp, pd.Series):\n",
    "        mu = tmp.mean()\n",
    "        sigma = tmp.std()\n",
    "        tmp = (tmp - mu)/sigma\n",
    "    return tmp   "
   ]
  },
  {
   "cell_type": "code",
   "execution_count": 4,
   "metadata": {},
   "outputs": [
    {
     "data": {
      "text/html": [
       "<div>\n",
       "<style scoped>\n",
       "    .dataframe tbody tr th:only-of-type {\n",
       "        vertical-align: middle;\n",
       "    }\n",
       "\n",
       "    .dataframe tbody tr th {\n",
       "        vertical-align: top;\n",
       "    }\n",
       "\n",
       "    .dataframe thead th {\n",
       "        text-align: right;\n",
       "    }\n",
       "</style>\n",
       "<table border=\"1\" class=\"dataframe\">\n",
       "  <thead>\n",
       "    <tr style=\"text-align: right;\">\n",
       "      <th></th>\n",
       "      <th>iShares Russell 1000 Value ETF</th>\n",
       "      <th>Praxis Value Index A</th>\n",
       "      <th>Wells Fargo C&amp;B Large Cap Value A</th>\n",
       "      <th>Commerce Value</th>\n",
       "      <th>Metropolitan West Total Return Bd I</th>\n",
       "      <th>iShares Core US Aggregate Bond ETF</th>\n",
       "      <th>Schwab S&amp;P 500 Index</th>\n",
       "      <th>Vanguard Real Estate ETF</th>\n",
       "      <th>iShares Gold Trust</th>\n",
       "    </tr>\n",
       "    <tr>\n",
       "      <th>Date</th>\n",
       "      <th></th>\n",
       "      <th></th>\n",
       "      <th></th>\n",
       "      <th></th>\n",
       "      <th></th>\n",
       "      <th></th>\n",
       "      <th></th>\n",
       "      <th></th>\n",
       "      <th></th>\n",
       "    </tr>\n",
       "  </thead>\n",
       "  <tbody>\n",
       "    <tr>\n",
       "      <th>1/31/2005</th>\n",
       "      <td>-0.868115</td>\n",
       "      <td>-0.857824</td>\n",
       "      <td>-0.947757</td>\n",
       "      <td>-0.986296</td>\n",
       "      <td>-1.572234</td>\n",
       "      <td>-0.799742</td>\n",
       "      <td>-0.978562</td>\n",
       "      <td>-1.077044</td>\n",
       "      <td>-2.061492</td>\n",
       "    </tr>\n",
       "    <tr>\n",
       "      <th>2/28/2005</th>\n",
       "      <td>-0.774480</td>\n",
       "      <td>-0.805958</td>\n",
       "      <td>-0.916390</td>\n",
       "      <td>-0.941371</td>\n",
       "      <td>-1.570576</td>\n",
       "      <td>-0.958262</td>\n",
       "      <td>-0.951162</td>\n",
       "      <td>-0.968363</td>\n",
       "      <td>-2.021143</td>\n",
       "    </tr>\n",
       "    <tr>\n",
       "      <th>3/31/2005</th>\n",
       "      <td>-0.842924</td>\n",
       "      <td>-0.853088</td>\n",
       "      <td>-0.935187</td>\n",
       "      <td>-0.973422</td>\n",
       "      <td>-1.583617</td>\n",
       "      <td>-1.252316</td>\n",
       "      <td>-0.974236</td>\n",
       "      <td>-1.069754</td>\n",
       "      <td>-2.043124</td>\n",
       "    </tr>\n",
       "    <tr>\n",
       "      <th>4/29/2005</th>\n",
       "      <td>-0.890692</td>\n",
       "      <td>-0.886012</td>\n",
       "      <td>-0.970707</td>\n",
       "      <td>-1.005875</td>\n",
       "      <td>-1.567827</td>\n",
       "      <td>-0.932974</td>\n",
       "      <td>-0.999472</td>\n",
       "      <td>-0.871614</td>\n",
       "      <td>-2.026562</td>\n",
       "    </tr>\n",
       "    <tr>\n",
       "      <th>5/31/2005</th>\n",
       "      <td>-0.826051</td>\n",
       "      <td>-0.836627</td>\n",
       "      <td>-0.928960</td>\n",
       "      <td>-0.974092</td>\n",
       "      <td>-1.543025</td>\n",
       "      <td>-0.815818</td>\n",
       "      <td>-0.958372</td>\n",
       "      <td>-0.743716</td>\n",
       "      <td>-2.078956</td>\n",
       "    </tr>\n",
       "  </tbody>\n",
       "</table>\n",
       "</div>"
      ],
      "text/plain": [
       "           iShares Russell 1000 Value ETF  Praxis Value Index A  \\\n",
       "Date                                                              \n",
       "1/31/2005                       -0.868115             -0.857824   \n",
       "2/28/2005                       -0.774480             -0.805958   \n",
       "3/31/2005                       -0.842924             -0.853088   \n",
       "4/29/2005                       -0.890692             -0.886012   \n",
       "5/31/2005                       -0.826051             -0.836627   \n",
       "\n",
       "           Wells Fargo C&B Large Cap Value A  Commerce Value  \\\n",
       "Date                                                           \n",
       "1/31/2005                          -0.947757       -0.986296   \n",
       "2/28/2005                          -0.916390       -0.941371   \n",
       "3/31/2005                          -0.935187       -0.973422   \n",
       "4/29/2005                          -0.970707       -1.005875   \n",
       "5/31/2005                          -0.928960       -0.974092   \n",
       "\n",
       "           Metropolitan West Total Return Bd I  \\\n",
       "Date                                             \n",
       "1/31/2005                            -1.572234   \n",
       "2/28/2005                            -1.570576   \n",
       "3/31/2005                            -1.583617   \n",
       "4/29/2005                            -1.567827   \n",
       "5/31/2005                            -1.543025   \n",
       "\n",
       "           iShares Core US Aggregate Bond ETF  Schwab S&P 500 Index  \\\n",
       "Date                                                                  \n",
       "1/31/2005                           -0.799742             -0.978562   \n",
       "2/28/2005                           -0.958262             -0.951162   \n",
       "3/31/2005                           -1.252316             -0.974236   \n",
       "4/29/2005                           -0.932974             -0.999472   \n",
       "5/31/2005                           -0.815818             -0.958372   \n",
       "\n",
       "           Vanguard Real Estate ETF  iShares Gold Trust  \n",
       "Date                                                     \n",
       "1/31/2005                 -1.077044           -2.061492  \n",
       "2/28/2005                 -0.968363           -2.021143  \n",
       "3/31/2005                 -1.069754           -2.043124  \n",
       "4/29/2005                 -0.871614           -2.026562  \n",
       "5/31/2005                 -0.743716           -2.078956  "
      ]
     },
     "execution_count": 4,
     "metadata": {},
     "output_type": "execute_result"
    }
   ],
   "source": [
    "pool=pd.read_csv(\"pool.csv\", encoding='utf-8')[:-1]\n",
    "pool = pool.set_index(\"Date\")\n",
    "pool = pool.fillna(pool.mean())\n",
    "for i in pool.columns:\n",
    "    pool[i] = standardize(pool[i])\n",
    "pool.head()"
   ]
  },
  {
   "cell_type": "code",
   "execution_count": 5,
   "metadata": {},
   "outputs": [
    {
     "data": {
      "text/plain": [
       "iShares Russell 1000 Value ETF         0.222918\n",
       "Praxis Value Index A                   0.223225\n",
       "Wells Fargo C&B Large Cap Value A      0.212622\n",
       "Commerce Value                         0.117451\n",
       "Metropolitan West Total Return Bd I    0.078259\n",
       "iShares Core US Aggregate Bond ETF     0.011901\n",
       "Schwab S&P 500 Index                   0.025214\n",
       "Vanguard Real Estate ETF               0.036727\n",
       "iShares Gold Trust                     0.071684\n",
       "dtype: float64"
      ]
     },
     "execution_count": 5,
     "metadata": {},
     "output_type": "execute_result"
    }
   ],
   "source": [
    "cov = pool.cov()\n",
    "target = [0.7, 0.2, 0.1] # target risk contribution of equity, bond, alternative\n",
    "equity = 0.8 # equity proportion limitation\n",
    "wts = risk_parity_weight(cov, target, equity)\n",
    "wts"
   ]
  },
  {
   "cell_type": "code",
   "execution_count": 6,
   "metadata": {},
   "outputs": [
    {
     "data": {
      "text/plain": [
       "[0.6999998177750311, 0.20000027564324827, 0.09999990658172059]"
      ]
     },
     "execution_count": 6,
     "metadata": {},
     "output_type": "execute_result"
    }
   ],
   "source": [
    "var = (wts.T).dot(cov).dot(wts)\n",
    "risk_contribution = wts*(cov.dot(wts))/var\n",
    "risk_contribution = [sum(risk_contribution[0:3]), sum(risk_contribution[3:5]), sum(risk_contribution[5:9])]\n",
    "risk_contribution"
   ]
  }
 ],
 "metadata": {
  "kernelspec": {
   "display_name": "Python 3",
   "language": "python",
   "name": "python3"
  },
  "language_info": {
   "codemirror_mode": {
    "name": "ipython",
    "version": 3
   },
   "file_extension": ".py",
   "mimetype": "text/x-python",
   "name": "python",
   "nbconvert_exporter": "python",
   "pygments_lexer": "ipython3",
   "version": "3.7.3"
  }
 },
 "nbformat": 4,
 "nbformat_minor": 2
}
