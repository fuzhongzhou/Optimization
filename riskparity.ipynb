{
 "cells": [
  {
   "cell_type": "code",
   "execution_count": 24,
   "metadata": {},
   "outputs": [],
   "source": [
    "import pandas as pd\n",
    "import numpy as np\n",
    "import scipy as sp\n",
    "from scipy.optimize import minimize"
   ]
  },
  {
   "cell_type": "code",
   "execution_count": 48,
   "metadata": {},
   "outputs": [],
   "source": [
    "def risk_parity_weight(cov_mat):    \n",
    "    sigma = np.matrix(cov_mat.values)\n",
    "\n",
    "    def params(x):\n",
    "        tmp = (sigma * np.matrix(x).T).A1\n",
    "        risk = x * tmp\n",
    "        delta_risk = [sum((i - risk)**2) for i in risk]\n",
    "        return sum(delta_risk)\n",
    "\n",
    "    x0 = np.ones(sigma.shape[0]) / sigma.shape[0]  \n",
    "    bnds = tuple((0,None) for x in x0)\n",
    "    cons = ({'type':'eq', 'fun': lambda x: sum(x) - 1})\n",
    "    options={'disp':False, 'maxiter':1000, 'ftol':1e-20}\n",
    "\n",
    "    res = minimize(params, x0, bounds=bnds, constraints=cons, method='SLSQP', options=options)\n",
    "\n",
    "    res['success'] == False\n",
    "    wts = pd.Series(index=cov_mat.index, data=res['x'])\n",
    "    return wts / wts.sum() * 1.0"
   ]
  },
  {
   "cell_type": "code",
   "execution_count": 53,
   "metadata": {},
   "outputs": [
    {
     "data": {
      "text/plain": [
       "Stars3     0.303979\n",
       "Stars4     0.332032\n",
       "Starts5    0.363990\n",
       "dtype: float64"
      ]
     },
     "execution_count": 53,
     "metadata": {},
     "output_type": "execute_result"
    }
   ],
   "source": [
    "test=pd.read_csv(\"test.csv\")\n",
    "test.set_index(\"Date\")\n",
    "cov = test.cov()\n",
    "wts = risk_parity_weight(cov)\n",
    "wts"
   ]
  },
  {
   "cell_type": "code",
   "execution_count": 55,
   "metadata": {},
   "outputs": [
    {
     "data": {
      "text/plain": [
       "Stars3     0.000556\n",
       "Stars4     0.000556\n",
       "Starts5    0.000556\n",
       "dtype: float64"
      ]
     },
     "execution_count": 55,
     "metadata": {},
     "output_type": "execute_result"
    }
   ],
   "source": [
    "var = (wts.T).dot(cov).dot(wts)\n",
    "wts*(cov.dot(wts))"
   ]
  }
 ],
 "metadata": {
  "kernelspec": {
   "display_name": "Python 3",
   "language": "python",
   "name": "python3"
  },
  "language_info": {
   "codemirror_mode": {
    "name": "ipython",
    "version": 3
   },
   "file_extension": ".py",
   "mimetype": "text/x-python",
   "name": "python",
   "nbconvert_exporter": "python",
   "pygments_lexer": "ipython3",
   "version": "3.7.3"
  }
 },
 "nbformat": 4,
 "nbformat_minor": 2
}
